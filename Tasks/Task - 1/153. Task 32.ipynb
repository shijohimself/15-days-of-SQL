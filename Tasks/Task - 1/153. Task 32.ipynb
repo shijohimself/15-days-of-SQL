{
 "cells": [
  {
   "cell_type": "markdown",
   "metadata": {
    "id": "O-kYKh3Z3HoZ"
   },
   "source": [
    "# Task for SQL DML session\n",
    "\n",
    "Load this dataset in your database and perform below given tasks.\n",
    "\n",
    "DataSet - https://docs.google.com/spreadsheets/d/e/2PACX-1vRa1wWwXmzxEvqITxj4OQTeLywlGTTsOTbhSRqKj2lPuGefjlci-DQhgLBPpgWXe8AAUu2WUBqY59X1/pub?gid=1030172542&single=true&output=csv\n",
    "\n",
    "Look for data description\n",
    "\n",
    "Kaggle - https://www.kaggle.com/datasets/thedevastator/insurance-claim-analysis-demographic-and-health?select=insurance_data.csv"
   ]
  },
  {
   "cell_type": "markdown",
   "metadata": {
    "id": "HgeiRIpI3MjR"
   },
   "source": [
    "### Perform the following queries\n",
    "\n",
    "1. Show r\n",
    "2. ecords of 'male' patient from 'southwest' region.\n",
    "3. Show all records having bmi in range 30 to 45 both inclusive.\n",
    "4. Show minimum and maximum bloodpressure of diabetic patient who smokes. Make column names as MinBP and MaxBP respectively.\n",
    "5. Find no of unique patients who are not from southwest region.\n",
    "6. Total claim amount from male smoker.\n",
    "7. Select all records of south region.\n",
    "8. No of patient having normal blood pressure. Normal range[90-120]\n",
    "9. No of pateint belo 17 years of age having normal blood pressure as per below formula -\n",
    "    - BP normal range = 80+(age in years × 2) to 100 + (age in years × 2)\n",
    "\n",
    "    - Note: Formula taken just for practice, don't take in real sense.\n",
    "10. What is the average claim amount for non-smoking female patients who are diabetic?\n",
    "11. Write a SQL query to update the claim amount for the patient with PatientID = 1234 to 5000.\n",
    "12. Write a SQL query to delete all records for patients who are smokers and have no children.\n"
   ]
  },
  {
   "cell_type": "code",
   "execution_count": null,
   "metadata": {
    "id": "56rYZ7bf3IJh"
   },
   "outputs": [],
   "source": []
  },
  {
   "cell_type": "code",
   "execution_count": null,
   "metadata": {},
   "outputs": [],
   "source": []
  },
  {
   "cell_type": "code",
   "execution_count": null,
   "metadata": {},
   "outputs": [],
   "source": []
  }
 ],
 "metadata": {
  "colab": {
   "provenance": []
  },
  "kernelspec": {
   "display_name": "Python 3 (ipykernel)",
   "language": "python",
   "name": "python3"
  },
  "language_info": {
   "codemirror_mode": {
    "name": "ipython",
    "version": 3
   },
   "file_extension": ".py",
   "mimetype": "text/x-python",
   "name": "python",
   "nbconvert_exporter": "python",
   "pygments_lexer": "ipython3",
   "version": "3.8.17"
  }
 },
 "nbformat": 4,
 "nbformat_minor": 4
}
